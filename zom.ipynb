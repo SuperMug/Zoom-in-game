{
 "cells": [
  {
   "cell_type": "code",
   "execution_count": null,
   "metadata": {},
   "outputs": [],
   "source": [
    "from concurrent.futures import wait\n",
    "import matplotlib.pyplot as plt\n",
    "from matplotlib.pyplot import figure\n",
    "import numpy as np\n",
    "from matplotlib import image\n",
    "import random\n",
    "from PIL import Image\n",
    "import os\n",
    "\n",
    "\n",
    "\n",
    "my_dpi=96\n",
    "\n",
    "imgrand = \"images/\" + random.choice( os.listdir(\"./images\"))\n",
    "img = Image.open(imgrand)\n",
    "\n",
    "\n",
    "img = np.array(img)\n",
    "h, w = img.shape[:2]\n",
    "plt.imshow(img)\n",
    "\n",
    "\n",
    "\n",
    "zoomx = np.round(w/3)\n",
    "zoomy = np.round(h/3)\n",
    "\n",
    "\n",
    "top = random.randrange(1,h-zoomy)\n",
    "left = random.randrange(1,w-zoomx)\n",
    "\n",
    "print(top, left)\n",
    "print(h, w)\n",
    "\n",
    "out = np.zeros_like(img)\n",
    "out = img[top:h, left:w]\n",
    "\n",
    "plt.imshow(out)\n",
    "plt.xlim(0, zoomx)\n",
    "plt.ylim(zoomy, 0)\n",
    "plt.figure(figsize=(800/my_dpi, 800/my_dpi), dpi=my_dpi)\n",
    "plt.show()"
   ]
  },
  {
   "cell_type": "code",
   "execution_count": null,
   "metadata": {},
   "outputs": [],
   "source": [
    "print(imgrand)"
   ]
  }
 ],
 "metadata": {
  "kernelspec": {
   "display_name": "Python 3",
   "language": "python",
   "name": "python3"
  },
  "language_info": {
   "codemirror_mode": {
    "name": "ipython",
    "version": 3
   },
   "file_extension": ".py",
   "mimetype": "text/x-python",
   "name": "python",
   "nbconvert_exporter": "python",
   "pygments_lexer": "ipython3",
   "version": "3.10.12"
  },
  "orig_nbformat": 4
 },
 "nbformat": 4,
 "nbformat_minor": 2
}
